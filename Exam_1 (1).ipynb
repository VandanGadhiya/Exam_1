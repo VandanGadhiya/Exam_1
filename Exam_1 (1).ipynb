{
 "cells": [
  {
   "cell_type": "markdown",
   "id": "0d7189aa",
   "metadata": {},
   "source": [
    "<h2><font color=\"magenta\"> Question 1 </font> </h2>"
   ]
  },
  {
   "cell_type": "code",
   "execution_count": 1,
   "id": "a8abd076",
   "metadata": {},
   "outputs": [],
   "source": [
    "q = 40 #cfs\n",
    "cd = 0.6\n",
    "g = 32.2 #ft/s^2\n",
    "\n",
    "\n",
    "def f(D): #define a function for D\n",
    "    return D**5-12*D**4 + (16*q**2)/((3.14**2)*(cd**2)*g)\n",
    "\n",
    "def derf(D): #define a derivative function for D\n",
    "    return 5*D**4 - 48*D**3"
   ]
  },
  {
   "cell_type": "code",
   "execution_count": 11,
   "id": "4edcc70f",
   "metadata": {},
   "outputs": [],
   "source": [
    "D=1\n",
    "tol=1e-6\n",
    "while(d>tol):\n",
    "    d = f(D)/derf(D)\n",
    "    d1= D-d\n",
    "    D=d1"
   ]
  },
  {
   "cell_type": "markdown",
   "id": "205341c4",
   "metadata": {},
   "source": [
    "<h2><font color=\"magenta\"> Question 3 </font> </h2>"
   ]
  },
  {
   "cell_type": "code",
   "execution_count": 29,
   "id": "6d11cec5",
   "metadata": {},
   "outputs": [],
   "source": [
    "def defl(q,L,E,I):\n",
    "    return (q*L**4)/(8*E*I)\n",
    "def defl_p(F,a,E,I,b):\n",
    "    return ((F*a**3)/8*E*I)*(1+(3*a/2*b))"
   ]
  },
  {
   "cell_type": "code",
   "execution_count": 34,
   "id": "7558c908",
   "metadata": {},
   "outputs": [],
   "source": [
    "#for udl\n",
    "L = 25000 #cm^2\n",
    "q = 250 #N/cm\n",
    "E = 81960000 #cm^4\n",
    "I = 20 #N/cm^2(Converted from pa)\n",
    "f=defl(q=250,L=25000,E=81960000,I=200000)"
   ]
  },
  {
   "cell_type": "code",
   "execution_count": 35,
   "id": "82354a58",
   "metadata": {},
   "outputs": [],
   "source": [
    "#for Point load 1\n",
    "f1=defl_p(F=100000,a=25000,E=81960000,I = 200000,b=0)"
   ]
  },
  {
   "cell_type": "code",
   "execution_count": 36,
   "id": "3ef778d5",
   "metadata": {},
   "outputs": [],
   "source": [
    "#for point load 2\n",
    "f2=defl_p(F=200000,a=10000,E=81960000,I = 200000,b=15000)"
   ]
  },
  {
   "cell_type": "code",
   "execution_count": 37,
   "id": "99f4da62",
   "metadata": {},
   "outputs": [
    {
     "data": {
      "text/plain": [
       "9.22050036113625e+37"
      ]
     },
     "execution_count": 37,
     "metadata": {},
     "output_type": "execute_result"
    }
   ],
   "source": [
    "Total_deflection = f+f1+f2\n",
    "Total_deflection"
   ]
  },
  {
   "cell_type": "code",
   "execution_count": null,
   "id": "fb31868b",
   "metadata": {},
   "outputs": [],
   "source": []
  }
 ],
 "metadata": {
  "kernelspec": {
   "display_name": "Python 3 (ipykernel)",
   "language": "python",
   "name": "python3"
  },
  "language_info": {
   "codemirror_mode": {
    "name": "ipython",
    "version": 3
   },
   "file_extension": ".py",
   "mimetype": "text/x-python",
   "name": "python",
   "nbconvert_exporter": "python",
   "pygments_lexer": "ipython3",
   "version": "3.9.13"
  }
 },
 "nbformat": 4,
 "nbformat_minor": 5
}
